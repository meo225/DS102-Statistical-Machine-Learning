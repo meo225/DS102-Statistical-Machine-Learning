{
  "cells": [
    {
      "cell_type": "markdown",
      "metadata": {
        "id": "XNmMQKHcRTXf"
      },
      "source": [
        "#### Import Libraries"
      ]
    },
    {
      "cell_type": "code",
      "execution_count": 524,
      "metadata": {
        "id": "nTtwJb0GRTXh",
        "colab": {
          "base_uri": "https://localhost:8080/"
        },
        "outputId": "631cd0a1-91be-49e5-ba7a-a6ffd4a5ab78"
      },
      "outputs": [
        {
          "output_type": "stream",
          "name": "stdout",
          "text": [
            "✓ Seaborn imported successfully!\n",
            "✓ Libraries imported successfully!\n"
          ]
        }
      ],
      "source": [
        "import pandas as pd\n",
        "import numpy as np\n",
        "import matplotlib.pyplot as plt\n",
        "from sklearn.model_selection import train_test_split\n",
        "from sklearn.metrics import accuracy_score, confusion_matrix, classification_report\n",
        "from sklearn.linear_model import LogisticRegression\n",
        "\n",
        "# Try to import seaborn, use matplotlib if not available\n",
        "try:\n",
        "    import seaborn as sns\n",
        "    HAS_SEABORN = True\n",
        "    print('✓ Seaborn imported successfully!')\n",
        "except ImportError:\n",
        "    HAS_SEABORN = False\n",
        "    print('⚠ Seaborn not available, will use matplotlib for plotting')\n",
        "\n",
        "np.random.seed(42)\n",
        "print('✓ Libraries imported successfully!')"
      ]
    },
    {
      "cell_type": "markdown",
      "metadata": {
        "id": "BoFKHz5CRTXk"
      },
      "source": [
        "#### Load Dataset"
      ]
    },
    {
      "cell_type": "code",
      "execution_count": 525,
      "metadata": {
        "colab": {
          "base_uri": "https://localhost:8080/",
          "height": 308
        },
        "id": "FMz5kORcRTXk",
        "outputId": "6cbf72c6-8d93-4a23-fb08-f1a571122f2a"
      },
      "outputs": [
        {
          "output_type": "display_data",
          "data": {
            "text/plain": [
              "   Marital status  Application mode  Application order  Course  \\\n",
              "0               1                17                  5     171   \n",
              "1               1                15                  1    9254   \n",
              "2               1                 1                  5    9070   \n",
              "3               1                17                  2    9773   \n",
              "4               2                39                  1    8014   \n",
              "\n",
              "   Daytime/evening attendance\\t  Previous qualification  \\\n",
              "0                             1                       1   \n",
              "1                             1                       1   \n",
              "2                             1                       1   \n",
              "3                             1                       1   \n",
              "4                             0                       1   \n",
              "\n",
              "   Previous qualification (grade)  Nacionality  Mother's qualification  \\\n",
              "0                           122.0            1                      19   \n",
              "1                           160.0            1                       1   \n",
              "2                           122.0            1                      37   \n",
              "3                           122.0            1                      38   \n",
              "4                           100.0            1                      37   \n",
              "\n",
              "   Father's qualification  ...  Curricular units 2nd sem (credited)  \\\n",
              "0                      12  ...                                    0   \n",
              "1                       3  ...                                    0   \n",
              "2                      37  ...                                    0   \n",
              "3                      37  ...                                    0   \n",
              "4                      38  ...                                    0   \n",
              "\n",
              "   Curricular units 2nd sem (enrolled)  \\\n",
              "0                                    0   \n",
              "1                                    6   \n",
              "2                                    6   \n",
              "3                                    6   \n",
              "4                                    6   \n",
              "\n",
              "   Curricular units 2nd sem (evaluations)  \\\n",
              "0                                       0   \n",
              "1                                       6   \n",
              "2                                       0   \n",
              "3                                      10   \n",
              "4                                       6   \n",
              "\n",
              "   Curricular units 2nd sem (approved)  Curricular units 2nd sem (grade)  \\\n",
              "0                                    0                          0.000000   \n",
              "1                                    6                         13.666667   \n",
              "2                                    0                          0.000000   \n",
              "3                                    5                         12.400000   \n",
              "4                                    6                         13.000000   \n",
              "\n",
              "   Curricular units 2nd sem (without evaluations)  Unemployment rate  \\\n",
              "0                                               0               10.8   \n",
              "1                                               0               13.9   \n",
              "2                                               0               10.8   \n",
              "3                                               0                9.4   \n",
              "4                                               0               13.9   \n",
              "\n",
              "   Inflation rate   GDP    Target  \n",
              "0             1.4  1.74   Dropout  \n",
              "1            -0.3  0.79  Graduate  \n",
              "2             1.4  1.74   Dropout  \n",
              "3            -0.8 -3.12  Graduate  \n",
              "4            -0.3  0.79  Graduate  \n",
              "\n",
              "[5 rows x 37 columns]"
            ],
            "text/html": [
              "\n",
              "  <div id=\"df-7ea42571-ef83-422e-bdaf-1c78363049db\" class=\"colab-df-container\">\n",
              "    <div>\n",
              "<style scoped>\n",
              "    .dataframe tbody tr th:only-of-type {\n",
              "        vertical-align: middle;\n",
              "    }\n",
              "\n",
              "    .dataframe tbody tr th {\n",
              "        vertical-align: top;\n",
              "    }\n",
              "\n",
              "    .dataframe thead th {\n",
              "        text-align: right;\n",
              "    }\n",
              "</style>\n",
              "<table border=\"1\" class=\"dataframe\">\n",
              "  <thead>\n",
              "    <tr style=\"text-align: right;\">\n",
              "      <th></th>\n",
              "      <th>Marital status</th>\n",
              "      <th>Application mode</th>\n",
              "      <th>Application order</th>\n",
              "      <th>Course</th>\n",
              "      <th>Daytime/evening attendance\\t</th>\n",
              "      <th>Previous qualification</th>\n",
              "      <th>Previous qualification (grade)</th>\n",
              "      <th>Nacionality</th>\n",
              "      <th>Mother's qualification</th>\n",
              "      <th>Father's qualification</th>\n",
              "      <th>...</th>\n",
              "      <th>Curricular units 2nd sem (credited)</th>\n",
              "      <th>Curricular units 2nd sem (enrolled)</th>\n",
              "      <th>Curricular units 2nd sem (evaluations)</th>\n",
              "      <th>Curricular units 2nd sem (approved)</th>\n",
              "      <th>Curricular units 2nd sem (grade)</th>\n",
              "      <th>Curricular units 2nd sem (without evaluations)</th>\n",
              "      <th>Unemployment rate</th>\n",
              "      <th>Inflation rate</th>\n",
              "      <th>GDP</th>\n",
              "      <th>Target</th>\n",
              "    </tr>\n",
              "  </thead>\n",
              "  <tbody>\n",
              "    <tr>\n",
              "      <th>0</th>\n",
              "      <td>1</td>\n",
              "      <td>17</td>\n",
              "      <td>5</td>\n",
              "      <td>171</td>\n",
              "      <td>1</td>\n",
              "      <td>1</td>\n",
              "      <td>122.0</td>\n",
              "      <td>1</td>\n",
              "      <td>19</td>\n",
              "      <td>12</td>\n",
              "      <td>...</td>\n",
              "      <td>0</td>\n",
              "      <td>0</td>\n",
              "      <td>0</td>\n",
              "      <td>0</td>\n",
              "      <td>0.000000</td>\n",
              "      <td>0</td>\n",
              "      <td>10.8</td>\n",
              "      <td>1.4</td>\n",
              "      <td>1.74</td>\n",
              "      <td>Dropout</td>\n",
              "    </tr>\n",
              "    <tr>\n",
              "      <th>1</th>\n",
              "      <td>1</td>\n",
              "      <td>15</td>\n",
              "      <td>1</td>\n",
              "      <td>9254</td>\n",
              "      <td>1</td>\n",
              "      <td>1</td>\n",
              "      <td>160.0</td>\n",
              "      <td>1</td>\n",
              "      <td>1</td>\n",
              "      <td>3</td>\n",
              "      <td>...</td>\n",
              "      <td>0</td>\n",
              "      <td>6</td>\n",
              "      <td>6</td>\n",
              "      <td>6</td>\n",
              "      <td>13.666667</td>\n",
              "      <td>0</td>\n",
              "      <td>13.9</td>\n",
              "      <td>-0.3</td>\n",
              "      <td>0.79</td>\n",
              "      <td>Graduate</td>\n",
              "    </tr>\n",
              "    <tr>\n",
              "      <th>2</th>\n",
              "      <td>1</td>\n",
              "      <td>1</td>\n",
              "      <td>5</td>\n",
              "      <td>9070</td>\n",
              "      <td>1</td>\n",
              "      <td>1</td>\n",
              "      <td>122.0</td>\n",
              "      <td>1</td>\n",
              "      <td>37</td>\n",
              "      <td>37</td>\n",
              "      <td>...</td>\n",
              "      <td>0</td>\n",
              "      <td>6</td>\n",
              "      <td>0</td>\n",
              "      <td>0</td>\n",
              "      <td>0.000000</td>\n",
              "      <td>0</td>\n",
              "      <td>10.8</td>\n",
              "      <td>1.4</td>\n",
              "      <td>1.74</td>\n",
              "      <td>Dropout</td>\n",
              "    </tr>\n",
              "    <tr>\n",
              "      <th>3</th>\n",
              "      <td>1</td>\n",
              "      <td>17</td>\n",
              "      <td>2</td>\n",
              "      <td>9773</td>\n",
              "      <td>1</td>\n",
              "      <td>1</td>\n",
              "      <td>122.0</td>\n",
              "      <td>1</td>\n",
              "      <td>38</td>\n",
              "      <td>37</td>\n",
              "      <td>...</td>\n",
              "      <td>0</td>\n",
              "      <td>6</td>\n",
              "      <td>10</td>\n",
              "      <td>5</td>\n",
              "      <td>12.400000</td>\n",
              "      <td>0</td>\n",
              "      <td>9.4</td>\n",
              "      <td>-0.8</td>\n",
              "      <td>-3.12</td>\n",
              "      <td>Graduate</td>\n",
              "    </tr>\n",
              "    <tr>\n",
              "      <th>4</th>\n",
              "      <td>2</td>\n",
              "      <td>39</td>\n",
              "      <td>1</td>\n",
              "      <td>8014</td>\n",
              "      <td>0</td>\n",
              "      <td>1</td>\n",
              "      <td>100.0</td>\n",
              "      <td>1</td>\n",
              "      <td>37</td>\n",
              "      <td>38</td>\n",
              "      <td>...</td>\n",
              "      <td>0</td>\n",
              "      <td>6</td>\n",
              "      <td>6</td>\n",
              "      <td>6</td>\n",
              "      <td>13.000000</td>\n",
              "      <td>0</td>\n",
              "      <td>13.9</td>\n",
              "      <td>-0.3</td>\n",
              "      <td>0.79</td>\n",
              "      <td>Graduate</td>\n",
              "    </tr>\n",
              "  </tbody>\n",
              "</table>\n",
              "<p>5 rows × 37 columns</p>\n",
              "</div>\n",
              "    <div class=\"colab-df-buttons\">\n",
              "\n",
              "  <div class=\"colab-df-container\">\n",
              "    <button class=\"colab-df-convert\" onclick=\"convertToInteractive('df-7ea42571-ef83-422e-bdaf-1c78363049db')\"\n",
              "            title=\"Convert this dataframe to an interactive table.\"\n",
              "            style=\"display:none;\">\n",
              "\n",
              "  <svg xmlns=\"http://www.w3.org/2000/svg\" height=\"24px\" viewBox=\"0 -960 960 960\">\n",
              "    <path d=\"M120-120v-720h720v720H120Zm60-500h600v-160H180v160Zm220 220h160v-160H400v160Zm0 220h160v-160H400v160ZM180-400h160v-160H180v160Zm440 0h160v-160H620v160ZM180-180h160v-160H180v160Zm440 0h160v-160H620v160Z\"/>\n",
              "  </svg>\n",
              "    </button>\n",
              "\n",
              "  <style>\n",
              "    .colab-df-container {\n",
              "      display:flex;\n",
              "      gap: 12px;\n",
              "    }\n",
              "\n",
              "    .colab-df-convert {\n",
              "      background-color: #E8F0FE;\n",
              "      border: none;\n",
              "      border-radius: 50%;\n",
              "      cursor: pointer;\n",
              "      display: none;\n",
              "      fill: #1967D2;\n",
              "      height: 32px;\n",
              "      padding: 0 0 0 0;\n",
              "      width: 32px;\n",
              "    }\n",
              "\n",
              "    .colab-df-convert:hover {\n",
              "      background-color: #E2EBFA;\n",
              "      box-shadow: 0px 1px 2px rgba(60, 64, 67, 0.3), 0px 1px 3px 1px rgba(60, 64, 67, 0.15);\n",
              "      fill: #174EA6;\n",
              "    }\n",
              "\n",
              "    .colab-df-buttons div {\n",
              "      margin-bottom: 4px;\n",
              "    }\n",
              "\n",
              "    [theme=dark] .colab-df-convert {\n",
              "      background-color: #3B4455;\n",
              "      fill: #D2E3FC;\n",
              "    }\n",
              "\n",
              "    [theme=dark] .colab-df-convert:hover {\n",
              "      background-color: #434B5C;\n",
              "      box-shadow: 0px 1px 3px 1px rgba(0, 0, 0, 0.15);\n",
              "      filter: drop-shadow(0px 1px 2px rgba(0, 0, 0, 0.3));\n",
              "      fill: #FFFFFF;\n",
              "    }\n",
              "  </style>\n",
              "\n",
              "    <script>\n",
              "      const buttonEl =\n",
              "        document.querySelector('#df-7ea42571-ef83-422e-bdaf-1c78363049db button.colab-df-convert');\n",
              "      buttonEl.style.display =\n",
              "        google.colab.kernel.accessAllowed ? 'block' : 'none';\n",
              "\n",
              "      async function convertToInteractive(key) {\n",
              "        const element = document.querySelector('#df-7ea42571-ef83-422e-bdaf-1c78363049db');\n",
              "        const dataTable =\n",
              "          await google.colab.kernel.invokeFunction('convertToInteractive',\n",
              "                                                    [key], {});\n",
              "        if (!dataTable) return;\n",
              "\n",
              "        const docLinkHtml = 'Like what you see? Visit the ' +\n",
              "          '<a target=\"_blank\" href=https://colab.research.google.com/notebooks/data_table.ipynb>data table notebook</a>'\n",
              "          + ' to learn more about interactive tables.';\n",
              "        element.innerHTML = '';\n",
              "        dataTable['output_type'] = 'display_data';\n",
              "        await google.colab.output.renderOutput(dataTable, element);\n",
              "        const docLink = document.createElement('div');\n",
              "        docLink.innerHTML = docLinkHtml;\n",
              "        element.appendChild(docLink);\n",
              "      }\n",
              "    </script>\n",
              "  </div>\n",
              "\n",
              "\n",
              "    <div id=\"df-3c5a4459-e3e0-400c-8e03-46a631f98188\">\n",
              "      <button class=\"colab-df-quickchart\" onclick=\"quickchart('df-3c5a4459-e3e0-400c-8e03-46a631f98188')\"\n",
              "                title=\"Suggest charts\"\n",
              "                style=\"display:none;\">\n",
              "\n",
              "<svg xmlns=\"http://www.w3.org/2000/svg\" height=\"24px\"viewBox=\"0 0 24 24\"\n",
              "     width=\"24px\">\n",
              "    <g>\n",
              "        <path d=\"M19 3H5c-1.1 0-2 .9-2 2v14c0 1.1.9 2 2 2h14c1.1 0 2-.9 2-2V5c0-1.1-.9-2-2-2zM9 17H7v-7h2v7zm4 0h-2V7h2v10zm4 0h-2v-4h2v4z\"/>\n",
              "    </g>\n",
              "</svg>\n",
              "      </button>\n",
              "\n",
              "<style>\n",
              "  .colab-df-quickchart {\n",
              "      --bg-color: #E8F0FE;\n",
              "      --fill-color: #1967D2;\n",
              "      --hover-bg-color: #E2EBFA;\n",
              "      --hover-fill-color: #174EA6;\n",
              "      --disabled-fill-color: #AAA;\n",
              "      --disabled-bg-color: #DDD;\n",
              "  }\n",
              "\n",
              "  [theme=dark] .colab-df-quickchart {\n",
              "      --bg-color: #3B4455;\n",
              "      --fill-color: #D2E3FC;\n",
              "      --hover-bg-color: #434B5C;\n",
              "      --hover-fill-color: #FFFFFF;\n",
              "      --disabled-bg-color: #3B4455;\n",
              "      --disabled-fill-color: #666;\n",
              "  }\n",
              "\n",
              "  .colab-df-quickchart {\n",
              "    background-color: var(--bg-color);\n",
              "    border: none;\n",
              "    border-radius: 50%;\n",
              "    cursor: pointer;\n",
              "    display: none;\n",
              "    fill: var(--fill-color);\n",
              "    height: 32px;\n",
              "    padding: 0;\n",
              "    width: 32px;\n",
              "  }\n",
              "\n",
              "  .colab-df-quickchart:hover {\n",
              "    background-color: var(--hover-bg-color);\n",
              "    box-shadow: 0 1px 2px rgba(60, 64, 67, 0.3), 0 1px 3px 1px rgba(60, 64, 67, 0.15);\n",
              "    fill: var(--button-hover-fill-color);\n",
              "  }\n",
              "\n",
              "  .colab-df-quickchart-complete:disabled,\n",
              "  .colab-df-quickchart-complete:disabled:hover {\n",
              "    background-color: var(--disabled-bg-color);\n",
              "    fill: var(--disabled-fill-color);\n",
              "    box-shadow: none;\n",
              "  }\n",
              "\n",
              "  .colab-df-spinner {\n",
              "    border: 2px solid var(--fill-color);\n",
              "    border-color: transparent;\n",
              "    border-bottom-color: var(--fill-color);\n",
              "    animation:\n",
              "      spin 1s steps(1) infinite;\n",
              "  }\n",
              "\n",
              "  @keyframes spin {\n",
              "    0% {\n",
              "      border-color: transparent;\n",
              "      border-bottom-color: var(--fill-color);\n",
              "      border-left-color: var(--fill-color);\n",
              "    }\n",
              "    20% {\n",
              "      border-color: transparent;\n",
              "      border-left-color: var(--fill-color);\n",
              "      border-top-color: var(--fill-color);\n",
              "    }\n",
              "    30% {\n",
              "      border-color: transparent;\n",
              "      border-left-color: var(--fill-color);\n",
              "      border-top-color: var(--fill-color);\n",
              "      border-right-color: var(--fill-color);\n",
              "    }\n",
              "    40% {\n",
              "      border-color: transparent;\n",
              "      border-right-color: var(--fill-color);\n",
              "      border-top-color: var(--fill-color);\n",
              "    }\n",
              "    60% {\n",
              "      border-color: transparent;\n",
              "      border-right-color: var(--fill-color);\n",
              "    }\n",
              "    80% {\n",
              "      border-color: transparent;\n",
              "      border-right-color: var(--fill-color);\n",
              "      border-bottom-color: var(--fill-color);\n",
              "    }\n",
              "    90% {\n",
              "      border-color: transparent;\n",
              "      border-bottom-color: var(--fill-color);\n",
              "    }\n",
              "  }\n",
              "</style>\n",
              "\n",
              "      <script>\n",
              "        async function quickchart(key) {\n",
              "          const quickchartButtonEl =\n",
              "            document.querySelector('#' + key + ' button');\n",
              "          quickchartButtonEl.disabled = true;  // To prevent multiple clicks.\n",
              "          quickchartButtonEl.classList.add('colab-df-spinner');\n",
              "          try {\n",
              "            const charts = await google.colab.kernel.invokeFunction(\n",
              "                'suggestCharts', [key], {});\n",
              "          } catch (error) {\n",
              "            console.error('Error during call to suggestCharts:', error);\n",
              "          }\n",
              "          quickchartButtonEl.classList.remove('colab-df-spinner');\n",
              "          quickchartButtonEl.classList.add('colab-df-quickchart-complete');\n",
              "        }\n",
              "        (() => {\n",
              "          let quickchartButtonEl =\n",
              "            document.querySelector('#df-3c5a4459-e3e0-400c-8e03-46a631f98188 button');\n",
              "          quickchartButtonEl.style.display =\n",
              "            google.colab.kernel.accessAllowed ? 'block' : 'none';\n",
              "        })();\n",
              "      </script>\n",
              "    </div>\n",
              "\n",
              "    </div>\n",
              "  </div>\n"
            ],
            "application/vnd.google.colaboratory.intrinsic+json": {
              "type": "dataframe"
            }
          },
          "metadata": {}
        }
      ],
      "source": [
        "data = pd.read_csv(\"data.csv\", sep=\";\")\n",
        "display(data.head())"
      ]
    },
    {
      "cell_type": "markdown",
      "metadata": {
        "id": "l1xAeGT5RTXk"
      },
      "source": [
        "### Assignment 1 (4 scores):\n",
        "\n",
        "- Use Numpy only to construct the Logistic Regression model.\n",
        "- Train that Logistic Regression model dataset using the Gradient Descend approach on the [Predict students’ dropout and academic success](https://archive.ics.uci.edu/dataset/697/predict+students+dropout+and+academic+success) dataset. *Note that three class in this dataset must be merge into two class as: graduate and non-graduate (dropout or enroll)*.\n",
        "- Evaluate that Logistic Regression model on the [Predict students’ dropout and academic success](https://archive.ics.uci.edu/dataset/697/predict+students+dropout+and+academic+success) dataset.\n",
        "- Visualize the loss function of the training process."
      ]
    },
    {
      "cell_type": "markdown",
      "metadata": {
        "id": "CQjuOZ2HRTXl"
      },
      "source": [
        "#### Step 1: Data Preprocessing"
      ]
    },
    {
      "cell_type": "code",
      "execution_count": 526,
      "metadata": {
        "colab": {
          "base_uri": "https://localhost:8080/"
        },
        "id": "Ofln77noRTXl",
        "outputId": "89964b1e-86a2-4f2f-9112-a7a2b7fd5566"
      },
      "outputs": [
        {
          "output_type": "stream",
          "name": "stdout",
          "text": [
            "Binary classification:\n",
            "  Features: (4424, 36)\n",
            "  Target distribution: [2215 2209]\n"
          ]
        }
      ],
      "source": [
        "# Merge 3 classes into 2: Graduate vs Non-graduate\n",
        "data_binary = data.copy()\n",
        "data_binary['Target'] = data_binary['Target'].replace(['Dropout', 'Enrolled'], 'Non-graduate')\n",
        "data_binary['Target'] = data_binary['Target'].map({'Graduate': 1, 'Non-graduate': 0})\n",
        "\n",
        "X_binary = data_binary.drop('Target', axis=1).values\n",
        "y_binary = data_binary['Target'].values\n",
        "\n",
        "print(f\"Binary classification:\")\n",
        "print(f\"  Features: {X_binary.shape}\")\n",
        "print(f\"  Target distribution: {np.bincount(y_binary)}\")"
      ]
    },
    {
      "cell_type": "code",
      "execution_count": 527,
      "metadata": {
        "colab": {
          "base_uri": "https://localhost:8080/"
        },
        "id": "1ZNAH1JyRTXl",
        "outputId": "4f29dd74-0718-4fb1-e453-1737aac79122"
      },
      "outputs": [
        {
          "output_type": "stream",
          "name": "stdout",
          "text": [
            "Train: 3539, Test: 885\n"
          ]
        }
      ],
      "source": [
        "# Z-score normalization\n",
        "def z_score_normalize(X):\n",
        "    mean = np.mean(X, axis=0)\n",
        "    std = np.std(X, axis=0)\n",
        "    std[std == 0] = 1\n",
        "    return (X - mean) / std, mean, std\n",
        "\n",
        "X_binary_norm, mean_bin, std_bin = z_score_normalize(X_binary)\n",
        "\n",
        "# Train-test split\n",
        "X_train_bin, X_test_bin, y_train_bin, y_test_bin = train_test_split(\n",
        "    X_binary_norm, y_binary, test_size=0.2, random_state=42, stratify=y_binary\n",
        ")\n",
        "\n",
        "print(f\"Train: {X_train_bin.shape[0]}, Test: {X_test_bin.shape[0]}\")"
      ]
    },
    {
      "cell_type": "markdown",
      "metadata": {
        "id": "WqkTGChBRTXl"
      },
      "source": [
        "#### Step 2: Build Logistic Regression Model"
      ]
    },
    {
      "cell_type": "code",
      "execution_count": 528,
      "metadata": {
        "id": "ejaiJNo2RTXm"
      },
      "outputs": [],
      "source": [
        "class LogisticRegressionGD:\n",
        "    def __init__(self):\n",
        "        self.weights = None\n",
        "        self.bias = None\n",
        "        self.losses = []\n",
        "        self.lr = None\n",
        "        self.epochs = None\n",
        "\n",
        "    def sigmoid(self, z):\n",
        "        return 1 / (1 + np.exp(-np.clip(z, -500, 500)))\n",
        "\n",
        "    def compute_loss(self, y_true, y_pred):\n",
        "        m = len(y_true)\n",
        "        epsilon = 1e-9\n",
        "        y_pred = np.clip(y_pred, epsilon, 1 - epsilon)\n",
        "        return -1/m * np.sum(y_true * np.log(y_pred) + (1 - y_true) * np.log(1 - y_pred))\n",
        "\n",
        "    def fit(self, X, y, epochs: int, lr: float):\n",
        "        self.lr = lr\n",
        "        self.epochs = epochs\n",
        "\n",
        "        m, n = X.shape\n",
        "        self.weights = np.zeros(n)\n",
        "        self.bias = 0\n",
        "        self.losses = []  # Reset losses for each fit\n",
        "\n",
        "        for i in range(self.epochs):\n",
        "            # Forward\n",
        "            z = np.dot(X, self.weights) + self.bias\n",
        "            y_pred = self.sigmoid(z)\n",
        "\n",
        "            # Loss\n",
        "            loss = self.compute_loss(y, y_pred)\n",
        "            self.losses.append(loss)\n",
        "\n",
        "            # Gradients\n",
        "            dw = (1/m) * np.dot(X.T, (y_pred - y))\n",
        "            db = (1/m) * np.sum(y_pred - y)\n",
        "\n",
        "            # Update\n",
        "            self.weights -= self.lr * dw\n",
        "            self.bias -= self.lr * db\n",
        "\n",
        "            if (i + 1) % 200 == 0:\n",
        "                print(f\"  Iteration {i+1}/{self.epochs}, Loss: {loss:.4f}\")\n",
        "\n",
        "    def predict_proba(self, X):\n",
        "        z = np.dot(X, self.weights) + self.bias\n",
        "        return self.sigmoid(z)\n",
        "\n",
        "    def predict(self, X, threshold=0.5):\n",
        "        return (self.predict_proba(X) >= threshold).astype(int)"
      ]
    },
    {
      "cell_type": "markdown",
      "metadata": {
        "id": "AquXPIf5RTXn"
      },
      "source": [
        "#### Step 3: Train Model"
      ]
    },
    {
      "cell_type": "code",
      "execution_count": 529,
      "metadata": {
        "colab": {
          "base_uri": "https://localhost:8080/"
        },
        "id": "VTvWO_Z3RTXn",
        "outputId": "10bd813f-6224-4991-e6ce-d16e501d50db"
      },
      "outputs": [
        {
          "output_type": "stream",
          "name": "stdout",
          "text": [
            "Training Logistic Regression...\n",
            "  Iteration 200/1000, Loss: 0.3544\n",
            "  Iteration 400/1000, Loss: 0.3403\n",
            "  Iteration 600/1000, Loss: 0.3346\n",
            "  Iteration 800/1000, Loss: 0.3313\n",
            "  Iteration 1000/1000, Loss: 0.3292\n",
            "Training completed!\n"
          ]
        }
      ],
      "source": [
        "# Khởi tạo model không cần tham số\n",
        "model_lr = LogisticRegressionGD()\n",
        "print(\"Training Logistic Regression...\")\n",
        "# Truyền epochs và lr vào khi gọi fit\n",
        "model_lr.fit(X_train_bin, y_train_bin, epochs=1000, lr=0.1)\n",
        "print(\"Training completed!\")"
      ]
    },
    {
      "cell_type": "markdown",
      "metadata": {
        "id": "L4qVg17tRTXo"
      },
      "source": [
        "#### Step 4: Visualize Loss Function"
      ]
    },
    {
      "cell_type": "code",
      "execution_count": 530,
      "metadata": {
        "id": "psSkaZWARTXo",
        "colab": {
          "base_uri": "https://localhost:8080/",
          "height": 464
        },
        "outputId": "532277d0-7300-429b-d95f-62d3916f5b03"
      },
      "outputs": [
        {
          "output_type": "display_data",
          "data": {
            "text/plain": [
              "<Figure size 1000x500 with 1 Axes>"
            ],
            "image/png": "[encoded data removed]"
          },
          "metadata": {}
        },
        {
          "output_type": "stream",
          "name": "stdout",
          "text": [
            "Initial Loss: 0.6931\n",
            "Final Loss: 0.3292\n"
          ]
        }
      ],
      "source": [
        "plt.figure(figsize=(10, 5))\n",
        "plt.plot(model_lr.losses, linewidth=2, color='blue')\n",
        "plt.xlabel('Iteration', fontsize=12)\n",
        "plt.ylabel('Loss (Binary Cross-Entropy)', fontsize=12)\n",
        "plt.title('Assignment 1: Training Loss - Logistic Regression', fontsize=14, fontweight='bold')\n",
        "plt.grid(True, alpha=0.3)\n",
        "plt.tight_layout()\n",
        "plt.show()\n",
        "\n",
        "print(f\"Initial Loss: {model_lr.losses[0]:.4f}\")\n",
        "print(f\"Final Loss: {model_lr.losses[-1]:.4f}\")"
      ]
    },
    {
      "cell_type": "markdown",
      "metadata": {
        "id": "gA3avaF6RTXo"
      },
      "source": [
        "\n",
        "\n",
        "#### Step 5: Evaluate Model"
      ]
    },
    {
      "cell_type": "code",
      "execution_count": 531,
      "metadata": {
        "id": "Ic7YUN8mRTXp",
        "colab": {
          "base_uri": "https://localhost:8080/"
        },
        "outputId": "464a3241-a3d2-4b6e-f445-2881a0c81332"
      },
      "outputs": [
        {
          "output_type": "stream",
          "name": "stdout",
          "text": [
            "============================================================\n",
            "ASSIGNMENT 1 - LOGISTIC REGRESSION RESULTS\n",
            "============================================================\n",
            "Training Accuracy: 0.8522 (85.22%)\n",
            "Test Accuracy: 0.8237 (82.37%)\n",
            "\n",
            "Test Set Classification Report:\n",
            "              precision    recall  f1-score   support\n",
            "\n",
            "Non-graduate       0.86      0.77      0.81       443\n",
            "    Graduate       0.79      0.88      0.83       442\n",
            "\n",
            "    accuracy                           0.82       885\n",
            "   macro avg       0.83      0.82      0.82       885\n",
            "weighted avg       0.83      0.82      0.82       885\n",
            "\n"
          ]
        }
      ],
      "source": [
        "# Predictions\n",
        "y_train_pred_bin = model_lr.predict(X_train_bin)\n",
        "y_test_pred_bin = model_lr.predict(X_test_bin)\n",
        "\n",
        "# Metrics\n",
        "train_acc_bin = accuracy_score(y_train_bin, y_train_pred_bin)\n",
        "test_acc_bin = accuracy_score(y_test_bin, y_test_pred_bin)\n",
        "\n",
        "print(\"=\"*60)\n",
        "print(\"ASSIGNMENT 1 - LOGISTIC REGRESSION RESULTS\")\n",
        "print(\"=\"*60)\n",
        "print(f\"Training Accuracy: {train_acc_bin:.4f} ({train_acc_bin*100:.2f}%)\")\n",
        "print(f\"Test Accuracy: {test_acc_bin:.4f} ({test_acc_bin*100:.2f}%)\")\n",
        "print(\"\\nTest Set Classification Report:\")\n",
        "print(classification_report(y_test_bin, y_test_pred_bin,\n",
        "                          target_names=['Non-graduate', 'Graduate']))"
      ]
    },
    {
      "cell_type": "code",
      "execution_count": 532,
      "metadata": {
        "id": "9vXsvHafRTXp",
        "colab": {
          "base_uri": "https://localhost:8080/",
          "height": 607
        },
        "outputId": "6ef49134-e222-4e86-fb0a-8777293859ce"
      },
      "outputs": [
        {
          "output_type": "display_data",
          "data": {
            "text/plain": [
              "<Figure size 800x600 with 2 Axes>"
            ],
            "image/png": "[encoded data removed]"
          },
          "metadata": {}
        }
      ],
      "source": [
        "# Confusion Matrix\n",
        "cm_bin = confusion_matrix(y_test_bin, y_test_pred_bin)\n",
        "\n",
        "plt.figure(figsize=(8, 6))\n",
        "sns.heatmap(cm_bin, annot=True, fmt='d', cmap='Blues',\n",
        "            xticklabels=['Non-graduate', 'Graduate'],\n",
        "            yticklabels=['Non-graduate', 'Graduate'],\n",
        "            cbar_kws={'label': 'Count'})\n",
        "plt.xlabel('Predicted', fontsize=12)\n",
        "plt.ylabel('True', fontsize=12)\n",
        "plt.title('Assignment 1: Confusion Matrix - Logistic Regression', fontsize=14, fontweight='bold')\n",
        "plt.tight_layout()\n",
        "plt.show()"
      ]
    },
    {
      "cell_type": "markdown",
      "metadata": {
        "id": "dXj9TKS2RTXq"
      },
      "source": [
        "### Assignment 2 (4 scores):\n",
        "\n",
        "- Use Numpy only to construct the Sofmax Regression model.\n",
        "- Train that Logistic Regression model dataset using the Gradient Descend approach on the [Predict students’ dropout and academic success](https://archive.ics.uci.edu/dataset/697/predict+students+dropout+and+academic+success) dataset.\n",
        "- Evaluate that Logistic Regression model on the [Predict students’ dropout and academic success](https://archive.ics.uci.edu/dataset/697/predict+students+dropout+and+academic+success) dataset.\n",
        "- Visualize the loss function of the training process."
      ]
    },
    {
      "cell_type": "markdown",
      "metadata": {
        "id": "G0MtWLEvRTXq"
      },
      "source": [
        "#### Step 1: Data Preprocessing"
      ]
    },
    {
      "cell_type": "code",
      "execution_count": 533,
      "metadata": {
        "id": "Fh-Nawt1RTXq",
        "colab": {
          "base_uri": "https://localhost:8080/"
        },
        "outputId": "408c2eeb-4aaf-4363-9361-496bf9598d83"
      },
      "outputs": [
        {
          "output_type": "stream",
          "name": "stdout",
          "text": [
            "Multi-class classification:\n",
            "  Features: (4424, 36)\n",
            "  Classes: [0 1 2]\n",
            "  Distribution: [1421  794 2209]\n"
          ]
        }
      ],
      "source": [
        "# Keep all 3 classes: Dropout, Enrolled, Graduate\n",
        "data_multi = data.copy()\n",
        "label_map = {'Dropout': 0, 'Enrolled': 1, 'Graduate': 2}\n",
        "data_multi['Target'] = data_multi['Target'].map(label_map)\n",
        "\n",
        "X_multi = data_multi.drop('Target', axis=1).values\n",
        "y_multi = data_multi['Target'].values\n",
        "\n",
        "print(f\"Multi-class classification:\")\n",
        "print(f\"  Features: {X_multi.shape}\")\n",
        "print(f\"  Classes: {np.unique(y_multi)}\")\n",
        "print(f\"  Distribution: {np.bincount(y_multi)}\")"
      ]
    },
    {
      "cell_type": "code",
      "execution_count": 534,
      "metadata": {
        "id": "5uAb-YMwRTXq",
        "colab": {
          "base_uri": "https://localhost:8080/"
        },
        "outputId": "01b5b4df-acdf-445b-b1ee-af70cd0b49f6"
      },
      "outputs": [
        {
          "output_type": "stream",
          "name": "stdout",
          "text": [
            "Train: 3539, Test: 885\n"
          ]
        }
      ],
      "source": [
        "# Normalize\n",
        "X_multi_norm, mean_multi, std_multi = z_score_normalize(X_multi)\n",
        "\n",
        "# Train-test split\n",
        "X_train_multi, X_test_multi, y_train_multi, y_test_multi = train_test_split(\n",
        "    X_multi_norm, y_multi, test_size=0.2, random_state=42, stratify=y_multi\n",
        ")\n",
        "\n",
        "print(f\"Train: {X_train_multi.shape[0]}, Test: {X_test_multi.shape[0]}\")"
      ]
    },
    {
      "cell_type": "markdown",
      "metadata": {
        "id": "pthTae7uRTXq"
      },
      "source": [
        "#### Step 2: Build Softmax Regression Model"
      ]
    },
    {
      "cell_type": "code",
      "execution_count": 535,
      "metadata": {
        "id": "c8zJKIncRTXq",
        "colab": {
          "base_uri": "https://localhost:8080/"
        },
        "outputId": "28ab576f-6a1f-40b1-d4e7-8688039a9304"
      },
      "outputs": [
        {
          "output_type": "stream",
          "name": "stdout",
          "text": [
            "✓ SoftmaxRegressionGD class defined with flexible fit method\n"
          ]
        }
      ],
      "source": [
        "class SoftmaxRegressionGD:\n",
        "    def __init__(self, n_classes=3):\n",
        "        self.n_classes = n_classes\n",
        "        self.weights = None\n",
        "        self.bias = None\n",
        "        self.losses = []\n",
        "        self.lr = None\n",
        "        self.epochs = None\n",
        "\n",
        "    def softmax(self, z):\n",
        "        exp_z = np.exp(z - np.max(z, axis=1, keepdims=True))\n",
        "        return exp_z / np.sum(exp_z, axis=1, keepdims=True)\n",
        "\n",
        "    def one_hot_encode(self, y):\n",
        "        m = len(y)\n",
        "        one_hot = np.zeros((m, self.n_classes))\n",
        "        one_hot[np.arange(m), y] = 1\n",
        "        return one_hot\n",
        "\n",
        "    def compute_loss(self, y_true_onehot, y_pred):\n",
        "        m = len(y_true_onehot)\n",
        "        epsilon = 1e-15\n",
        "        y_pred = np.clip(y_pred, epsilon, 1 - epsilon)\n",
        "        return -1/m * np.sum(y_true_onehot * np.log(y_pred))\n",
        "\n",
        "    def fit(self, X, y, epochs: int, lr: float):\n",
        "        self.lr = lr\n",
        "        self.epochs = epochs\n",
        "\n",
        "        m, n = X.shape\n",
        "        self.weights = np.zeros((n, self.n_classes))\n",
        "        self.bias = np.zeros(self.n_classes)\n",
        "\n",
        "        y_onehot = self.one_hot_encode(y)\n",
        "\n",
        "        self.losses = [] # Reset losses for each fit\n",
        "\n",
        "        for i in range(self.epochs):\n",
        "            # Forward\n",
        "            z = np.dot(X, self.weights) + self.bias\n",
        "            y_pred = self.softmax(z)\n",
        "\n",
        "            # Loss\n",
        "            loss = self.compute_loss(y_onehot, y_pred)\n",
        "            self.losses.append(loss)\n",
        "\n",
        "            # Gradients\n",
        "            dw = (1/m) * np.dot(X.T, (y_pred - y_onehot))\n",
        "            db = (1/m) * np.sum(y_pred - y_onehot, axis=0)\n",
        "\n",
        "            # Update\n",
        "            self.weights -= self.lr * dw\n",
        "            self.bias -= self.lr * db\n",
        "\n",
        "            if (i + 1) % 200 == 0:\n",
        "                print(f\"  Iteration {i+1}/{self.epochs}, Loss: {loss:.4f}\")\n",
        "\n",
        "    def predict_proba(self, X):\n",
        "        z = np.dot(X, self.weights) + self.bias\n",
        "        return self.softmax(z)\n",
        "\n",
        "    def predict(self, X):\n",
        "        proba = self.predict_proba(X)\n",
        "        return np.argmax(proba, axis=1)\n",
        "\n",
        "print(\"✓ SoftmaxRegressionGD class defined with flexible fit method\")"
      ]
    },
    {
      "cell_type": "markdown",
      "metadata": {
        "id": "6i-cVNpJRTXr"
      },
      "source": [
        "#### Step 3: Train Model"
      ]
    },
    {
      "cell_type": "code",
      "execution_count": 536,
      "metadata": {
        "id": "vkdyQc0fRTXr",
        "colab": {
          "base_uri": "https://localhost:8080/"
        },
        "outputId": "42c89227-2f13-4673-a3e3-4012a69ee4db"
      },
      "outputs": [
        {
          "output_type": "stream",
          "name": "stdout",
          "text": [
            "Training Softmax Regression...\n",
            "  Iteration 200/800, Loss: 0.5801\n",
            "  Iteration 400/800, Loss: 0.5685\n",
            "  Iteration 600/800, Loss: 0.5635\n",
            "  Iteration 800/800, Loss: 0.5607\n",
            "✓ Training completed!\n"
          ]
        }
      ],
      "source": [
        "model_softmax = SoftmaxRegressionGD(n_classes=3) # Initialize without lr and n_iter\n",
        "print(\"Training Softmax Regression...\")\n",
        "# Now you can specify learning_rate and n_iterations when calling fit\n",
        "model_softmax.fit(X_train_multi, y_train_multi, epochs=800, lr=0.1)\n",
        "print(\"✓ Training completed!\")"
      ]
    },
    {
      "cell_type": "markdown",
      "metadata": {
        "id": "-4Xy6TYyRTXr"
      },
      "source": [
        "#### Step 4: Visualize Loss Function"
      ]
    },
    {
      "cell_type": "code",
      "execution_count": 537,
      "metadata": {
        "id": "lZofy1P2RTXr",
        "colab": {
          "base_uri": "https://localhost:8080/",
          "height": 464
        },
        "outputId": "c703e6e6-b1ee-4c18-8880-757285484455"
      },
      "outputs": [
        {
          "output_type": "display_data",
          "data": {
            "text/plain": [
              "<Figure size 1000x500 with 1 Axes>"
            ],
            "image/png": "[encoded data removed]"
          },
          "metadata": {}
        },
        {
          "output_type": "stream",
          "name": "stdout",
          "text": [
            "Initial Loss: 1.0986\n",
            "Final Loss: 0.5607\n"
          ]
        }
      ],
      "source": [
        "plt.figure(figsize=(10, 5))\n",
        "plt.plot(model_softmax.losses, linewidth=2, color='red')\n",
        "plt.xlabel('Iteration', fontsize=12)\n",
        "plt.ylabel('Loss (Cross-Entropy)', fontsize=12)\n",
        "plt.title('Assignment 2: Training Loss - Softmax Regression', fontsize=14, fontweight='bold')\n",
        "plt.grid(True, alpha=0.3)\n",
        "plt.tight_layout()\n",
        "plt.show()\n",
        "\n",
        "print(f\"Initial Loss: {model_softmax.losses[0]:.4f}\")\n",
        "print(f\"Final Loss: {model_softmax.losses[-1]:.4f}\")"
      ]
    },
    {
      "cell_type": "markdown",
      "metadata": {
        "id": "6YmMIQ0zRTXr"
      },
      "source": [
        "#### Step 5: Evaluate Model"
      ]
    },
    {
      "cell_type": "code",
      "execution_count": 538,
      "metadata": {
        "id": "1SkgHcHTRTXr",
        "colab": {
          "base_uri": "https://localhost:8080/"
        },
        "outputId": "32b7d198-33e3-4189-d77f-f7e8cd96b50d"
      },
      "outputs": [
        {
          "output_type": "stream",
          "name": "stdout",
          "text": [
            "============================================================\n",
            "ASSIGNMENT 2 - SOFTMAX REGRESSION RESULTS\n",
            "============================================================\n",
            "Training Accuracy: 0.7731 (77.31%)\n",
            "Test Accuracy: 0.7740 (77.40%)\n",
            "\n",
            "Test Set Classification Report:\n",
            "              precision    recall  f1-score   support\n",
            "\n",
            "     Dropout       0.82      0.77      0.79       284\n",
            "    Enrolled       0.55      0.33      0.41       159\n",
            "    Graduate       0.79      0.94      0.86       442\n",
            "\n",
            "    accuracy                           0.77       885\n",
            "   macro avg       0.72      0.68      0.69       885\n",
            "weighted avg       0.76      0.77      0.76       885\n",
            "\n"
          ]
        }
      ],
      "source": [
        "# Predictions\n",
        "y_train_pred_multi = model_softmax.predict(X_train_multi)\n",
        "y_test_pred_multi = model_softmax.predict(X_test_multi)\n",
        "\n",
        "# Metrics\n",
        "train_acc_multi = accuracy_score(y_train_multi, y_train_pred_multi)\n",
        "test_acc_multi = accuracy_score(y_test_multi, y_test_pred_multi)\n",
        "\n",
        "print(\"=\"*60)\n",
        "print(\"ASSIGNMENT 2 - SOFTMAX REGRESSION RESULTS\")\n",
        "print(\"=\"*60)\n",
        "print(f\"Training Accuracy: {train_acc_multi:.4f} ({train_acc_multi*100:.2f}%)\")\n",
        "print(f\"Test Accuracy: {test_acc_multi:.4f} ({test_acc_multi*100:.2f}%)\")\n",
        "print(\"\\nTest Set Classification Report:\")\n",
        "print(classification_report(y_test_multi, y_test_pred_multi,\n",
        "                          target_names=['Dropout', 'Enrolled', 'Graduate']))"
      ]
    },
    {
      "cell_type": "code",
      "execution_count": 539,
      "metadata": {
        "id": "1D7uB0fmRTXr",
        "colab": {
          "base_uri": "https://localhost:8080/",
          "height": 607
        },
        "outputId": "8c95e047-01b9-472f-8b39-3be48b1ed15f"
      },
      "outputs": [
        {
          "output_type": "display_data",
          "data": {
            "text/plain": [
              "<Figure size 800x600 with 2 Axes>"
            ],
            "image/png": "[encoded data removed]"
          },
          "metadata": {}
        }
      ],
      "source": [
        "# Confusion Matrix\n",
        "cm_multi = confusion_matrix(y_test_multi, y_test_pred_multi)\n",
        "\n",
        "plt.figure(figsize=(8, 6))\n",
        "sns.heatmap(cm_multi, annot=True, fmt='d', cmap='Reds',\n",
        "            xticklabels=['Dropout', 'Enrolled', 'Graduate'],\n",
        "            yticklabels=['Dropout', 'Enrolled', 'Graduate'],\n",
        "            cbar_kws={'label': 'Count'})\n",
        "plt.xlabel('Predicted', fontsize=12)\n",
        "plt.ylabel('True', fontsize=12)\n",
        "plt.title('Assignment 2: Confusion Matrix - Softmax Regression', fontsize=14, fontweight='bold')\n",
        "plt.tight_layout()\n",
        "plt.show()"
      ]
    },
    {
      "cell_type": "markdown",
      "metadata": {
        "id": "r9a3AwRoRTXr"
      },
      "source": [
        "### Assignment 3 (2 scores):\n",
        "\n",
        "- Use a Machine Learning library (Scikit Learn or Skorch) to implement and evaluate the Logistic Regression on the [Predict students’ dropout and academic success](https://archive.ics.uci.edu/dataset/697/predict+students+dropout+and+academic+success) dataset.\n",
        "- Use a Machine Learning library (Scikit Learn or Skorch) to implement and evaluate the Softmax Regression on the [Predict students’ dropout and academic success](https://archive.ics.uci.edu/dataset/697/predict+students+dropout+and+academic+success) dataset."
      ]
    },
    {
      "cell_type": "markdown",
      "metadata": {
        "id": "f3EbVUlARTXr"
      },
      "source": [
        "#### 1: Logistic Regression with Scikit-Learn"
      ]
    },
    {
      "cell_type": "code",
      "execution_count": 540,
      "metadata": {
        "id": "0bpd2cn8RTXs",
        "colab": {
          "base_uri": "https://localhost:8080/"
        },
        "outputId": "16fbfc70-0ee2-4edc-fbaf-f2d78e9182e9"
      },
      "outputs": [
        {
          "output_type": "stream",
          "name": "stdout",
          "text": [
            "============================================================\n",
            "ASSIGNMENT 3.1 - SCIKIT-LEARN LOGISTIC REGRESSION\n",
            "============================================================\n",
            "Training Accuracy: 0.8550 (85.50%)\n",
            "Test Accuracy: 0.8237 (82.37%)\n",
            "\n",
            "Test Set Classification Report:\n",
            "              precision    recall  f1-score   support\n",
            "\n",
            "Non-graduate       0.87      0.77      0.81       443\n",
            "    Graduate       0.79      0.88      0.83       442\n",
            "\n",
            "    accuracy                           0.82       885\n",
            "   macro avg       0.83      0.82      0.82       885\n",
            "weighted avg       0.83      0.82      0.82       885\n",
            "\n"
          ]
        }
      ],
      "source": [
        "# Train Logistic Regression\n",
        "# Learning rate and max_iter are set during initialization for Scikit-learn models\n",
        "sklearn_lr = LogisticRegression(max_iter=1000, random_state=42, solver='liblinear') # Using liblinear for binary\n",
        "sklearn_lr.fit(X_train_bin, y_train_bin)\n",
        "\n",
        "# Predictions\n",
        "y_train_pred_sklearn_lr = sklearn_lr.predict(X_train_bin)\n",
        "y_test_pred_sklearn_lr = sklearn_lr.predict(X_test_bin)\n",
        "\n",
        "# Metrics\n",
        "train_acc_sklearn_lr = accuracy_score(y_train_bin, y_train_pred_sklearn_lr)\n",
        "test_acc_sklearn_lr = accuracy_score(y_test_bin, y_test_pred_sklearn_lr)\n",
        "\n",
        "print(\"=\"*60)\n",
        "print(\"ASSIGNMENT 3.1 - SCIKIT-LEARN LOGISTIC REGRESSION\")\n",
        "print(\"=\"*60)\n",
        "print(f\"Training Accuracy: {train_acc_sklearn_lr:.4f} ({train_acc_sklearn_lr*100:.2f}%)\")\n",
        "print(f\"Test Accuracy: {test_acc_sklearn_lr:.4f} ({test_acc_sklearn_lr*100:.2f}%)\")\n",
        "print(\"\\nTest Set Classification Report:\")\n",
        "print(classification_report(y_test_bin, y_test_pred_sklearn_lr,\n",
        "                          target_names=['Non-graduate', 'Graduate']))"
      ]
    },
    {
      "cell_type": "markdown",
      "metadata": {
        "id": "faOzZbTURTXs"
      },
      "source": [
        "#### 2: Softmax Regression with Scikit-Learn (Multi-class)"
      ]
    },
    {
      "cell_type": "code",
      "execution_count": 541,
      "metadata": {
        "id": "3b-uMHlxRTXs",
        "colab": {
          "base_uri": "https://localhost:8080/"
        },
        "outputId": "7f2e631d-ff37-4ddd-c616-5b09b4241c72"
      },
      "outputs": [
        {
          "output_type": "stream",
          "name": "stdout",
          "text": [
            "============================================================\n",
            "ASSIGNMENT 3.2 - SCIKIT-LEARN SOFTMAX REGRESSION\n",
            "============================================================\n",
            "Training Accuracy: 0.7734 (77.34%)\n",
            "Test Accuracy: 0.7684 (76.84%)\n",
            "\n",
            "Test Set Classification Report:\n",
            "              precision    recall  f1-score   support\n",
            "\n",
            "     Dropout       0.79      0.77      0.78       284\n",
            "    Enrolled       0.52      0.33      0.41       159\n",
            "    Graduate       0.80      0.93      0.86       442\n",
            "\n",
            "    accuracy                           0.77       885\n",
            "   macro avg       0.71      0.68      0.68       885\n",
            "weighted avg       0.75      0.77      0.75       885\n",
            "\n"
          ]
        },
        {
          "output_type": "stream",
          "name": "stderr",
          "text": [
            "/usr/local/lib/python3.12/dist-packages/sklearn/linear_model/_logistic.py:1247: FutureWarning: 'multi_class' was deprecated in version 1.5 and will be removed in 1.7. From then on, it will always use 'multinomial'. Leave it to its default value to avoid this warning.\n",
            "  warnings.warn(\n"
          ]
        }
      ],
      "source": [
        "# Train Softmax Regression (multi_class='multinomial')\n",
        "# Learning rate and max_iter are set during initialization for Scikit-learn models\n",
        "sklearn_softmax = LogisticRegression(max_iter=1000, multi_class='multinomial',\n",
        "                                     solver='lbfgs', random_state=42) # lbfgs is suitable for multinomial\n",
        "sklearn_softmax.fit(X_train_multi, y_train_multi)\n",
        "\n",
        "# Predictions\n",
        "y_train_pred_sklearn_soft = sklearn_softmax.predict(X_train_multi)\n",
        "y_test_pred_sklearn_soft = sklearn_softmax.predict(X_test_multi)\n",
        "\n",
        "# Metrics\n",
        "train_acc_sklearn_soft = accuracy_score(y_train_multi, y_train_pred_sklearn_soft)\n",
        "test_acc_sklearn_soft = accuracy_score(y_test_multi, y_test_pred_sklearn_soft)\n",
        "\n",
        "print(\"=\"*60)\n",
        "print(\"ASSIGNMENT 3.2 - SCIKIT-LEARN SOFTMAX REGRESSION\")\n",
        "print(\"=\"*60)\n",
        "print(f\"Training Accuracy: {train_acc_sklearn_soft:.4f} ({train_acc_sklearn_soft*100:.2f}%)\")\n",
        "print(f\"Test Accuracy: {test_acc_sklearn_soft:.4f} ({test_acc_sklearn_soft*100:.2f}%)\")\n",
        "print(\"\\nTest Set Classification Report:\")\n",
        "print(classification_report(y_test_multi, y_test_pred_sklearn_soft,\n",
        "                          target_names=['Dropout', 'Enrolled', 'Graduate']))"
      ]
    },
    {
      "cell_type": "markdown",
      "metadata": {
        "id": "lXtBduzIRTXs"
      },
      "source": [
        "---\n",
        "### SUMMARY\n",
        "---"
      ]
    },
    {
      "cell_type": "code",
      "execution_count": 542,
      "metadata": {
        "id": "DNe7WBAcRTXs",
        "colab": {
          "base_uri": "https://localhost:8080/",
          "height": 520
        },
        "outputId": "946db33a-3d67-420a-cbf3-0c404c4e6803"
      },
      "outputs": [
        {
          "output_type": "stream",
          "name": "stdout",
          "text": [
            "================================================================================\n",
            "FINAL RESULTS COMPARISON\n",
            "================================================================================\n"
          ]
        },
        {
          "output_type": "display_data",
          "data": {
            "text/plain": [
              "                                Model                     Task Train Accuracy  \\\n",
              "0      Assignment 1: Logistic (NumPy)       Binary (2 classes)         0.8522   \n",
              "1       Assignment 2: Softmax (NumPy)  Multi-class (3 classes)         0.7731   \n",
              "2  Assignment 3.1: Logistic (Sklearn)       Binary (2 classes)         0.8550   \n",
              "3   Assignment 3.2: Softmax (Sklearn)  Multi-class (3 classes)         0.7734   \n",
              "\n",
              "  Test Accuracy  \n",
              "0        0.8237  \n",
              "1        0.7740  \n",
              "2        0.8237  \n",
              "3        0.7684  "
            ],
            "text/html": [
              "\n",
              "  <div id=\"df-3bb9a433-5a99-461f-b93c-3d1326d8c86a\" class=\"colab-df-container\">\n",
              "    <div>\n",
              "<style scoped>\n",
              "    .dataframe tbody tr th:only-of-type {\n",
              "        vertical-align: middle;\n",
              "    }\n",
              "\n",
              "    .dataframe tbody tr th {\n",
              "        vertical-align: top;\n",
              "    }\n",
              "\n",
              "    .dataframe thead th {\n",
              "        text-align: right;\n",
              "    }\n",
              "</style>\n",
              "<table border=\"1\" class=\"dataframe\">\n",
              "  <thead>\n",
              "    <tr style=\"text-align: right;\">\n",
              "      <th></th>\n",
              "      <th>Model</th>\n",
              "      <th>Task</th>\n",
              "      <th>Train Accuracy</th>\n",
              "      <th>Test Accuracy</th>\n",
              "    </tr>\n",
              "  </thead>\n",
              "  <tbody>\n",
              "    <tr>\n",
              "      <th>0</th>\n",
              "      <td>Assignment 1: Logistic (NumPy)</td>\n",
              "      <td>Binary (2 classes)</td>\n",
              "      <td>0.8522</td>\n",
              "      <td>0.8237</td>\n",
              "    </tr>\n",
              "    <tr>\n",
              "      <th>1</th>\n",
              "      <td>Assignment 2: Softmax (NumPy)</td>\n",
              "      <td>Multi-class (3 classes)</td>\n",
              "      <td>0.7731</td>\n",
              "      <td>0.7740</td>\n",
              "    </tr>\n",
              "    <tr>\n",
              "      <th>2</th>\n",
              "      <td>Assignment 3.1: Logistic (Sklearn)</td>\n",
              "      <td>Binary (2 classes)</td>\n",
              "      <td>0.8550</td>\n",
              "      <td>0.8237</td>\n",
              "    </tr>\n",
              "    <tr>\n",
              "      <th>3</th>\n",
              "      <td>Assignment 3.2: Softmax (Sklearn)</td>\n",
              "      <td>Multi-class (3 classes)</td>\n",
              "      <td>0.7734</td>\n",
              "      <td>0.7684</td>\n",
              "    </tr>\n",
              "  </tbody>\n",
              "</table>\n",
              "</div>\n",
              "    <div class=\"colab-df-buttons\">\n",
              "\n",
              "  <div class=\"colab-df-container\">\n",
              "    <button class=\"colab-df-convert\" onclick=\"convertToInteractive('df-3bb9a433-5a99-461f-b93c-3d1326d8c86a')\"\n",
              "            title=\"Convert this dataframe to an interactive table.\"\n",
              "            style=\"display:none;\">\n",
              "\n",
              "  <svg xmlns=\"http://www.w3.org/2000/svg\" height=\"24px\" viewBox=\"0 -960 960 960\">\n",
              "    <path d=\"M120-120v-720h720v720H120Zm60-500h600v-160H180v160Zm220 220h160v-160H400v160Zm0 220h160v-160H400v160ZM180-400h160v-160H180v160Zm440 0h160v-160H620v160ZM180-180h160v-160H180v160Zm440 0h160v-160H620v160Z\"/>\n",
              "  </svg>\n",
              "    </button>\n",
              "\n",
              "  <style>\n",
              "    .colab-df-container {\n",
              "      display:flex;\n",
              "      gap: 12px;\n",
              "    }\n",
              "\n",
              "    .colab-df-convert {\n",
              "      background-color: #E8F0FE;\n",
              "      border: none;\n",
              "      border-radius: 50%;\n",
              "      cursor: pointer;\n",
              "      display: none;\n",
              "      fill: #1967D2;\n",
              "      height: 32px;\n",
              "      padding: 0 0 0 0;\n",
              "      width: 32px;\n",
              "    }\n",
              "\n",
              "    .colab-df-convert:hover {\n",
              "      background-color: #E2EBFA;\n",
              "      box-shadow: 0px 1px 2px rgba(60, 64, 67, 0.3), 0px 1px 3px 1px rgba(60, 64, 67, 0.15);\n",
              "      fill: #174EA6;\n",
              "    }\n",
              "\n",
              "    .colab-df-buttons div {\n",
              "      margin-bottom: 4px;\n",
              "    }\n",
              "\n",
              "    [theme=dark] .colab-df-convert {\n",
              "      background-color: #3B4455;\n",
              "      fill: #D2E3FC;\n",
              "    }\n",
              "\n",
              "    [theme=dark] .colab-df-convert:hover {\n",
              "      background-color: #434B5C;\n",
              "      box-shadow: 0px 1px 3px 1px rgba(0, 0, 0, 0.15);\n",
              "      filter: drop-shadow(0px 1px 2px rgba(0, 0, 0, 0.3));\n",
              "      fill: #FFFFFF;\n",
              "    }\n",
              "  </style>\n",
              "\n",
              "    <script>\n",
              "      const buttonEl =\n",
              "        document.querySelector('#df-3bb9a433-5a99-461f-b93c-3d1326d8c86a button.colab-df-convert');\n",
              "      buttonEl.style.display =\n",
              "        google.colab.kernel.accessAllowed ? 'block' : 'none';\n",
              "\n",
              "      async function convertToInteractive(key) {\n",
              "        const element = document.querySelector('#df-3bb9a433-5a99-461f-b93c-3d1326d8c86a');\n",
              "        const dataTable =\n",
              "          await google.colab.kernel.invokeFunction('convertToInteractive',\n",
              "                                                    [key], {});\n",
              "        if (!dataTable) return;\n",
              "\n",
              "        const docLinkHtml = 'Like what you see? Visit the ' +\n",
              "          '<a target=\"_blank\" href=https://colab.research.google.com/notebooks/data_table.ipynb>data table notebook</a>'\n",
              "          + ' to learn more about interactive tables.';\n",
              "        element.innerHTML = '';\n",
              "        dataTable['output_type'] = 'display_data';\n",
              "        await google.colab.output.renderOutput(dataTable, element);\n",
              "        const docLink = document.createElement('div');\n",
              "        docLink.innerHTML = docLinkHtml;\n",
              "        element.appendChild(docLink);\n",
              "      }\n",
              "    </script>\n",
              "  </div>\n",
              "\n",
              "\n",
              "    <div id=\"df-9b5844f1-3cc5-451c-bc89-6497bb3a4724\">\n",
              "      <button class=\"colab-df-quickchart\" onclick=\"quickchart('df-9b5844f1-3cc5-451c-bc89-6497bb3a4724')\"\n",
              "                title=\"Suggest charts\"\n",
              "                style=\"display:none;\">\n",
              "\n",
              "<svg xmlns=\"http://www.w3.org/2000/svg\" height=\"24px\"viewBox=\"0 0 24 24\"\n",
              "     width=\"24px\">\n",
              "    <g>\n",
              "        <path d=\"M19 3H5c-1.1 0-2 .9-2 2v14c0 1.1.9 2 2 2h14c1.1 0 2-.9 2-2V5c0-1.1-.9-2-2-2zM9 17H7v-7h2v7zm4 0h-2V7h2v10zm4 0h-2v-4h2v4z\"/>\n",
              "    </g>\n",
              "</svg>\n",
              "      </button>\n",
              "\n",
              "<style>\n",
              "  .colab-df-quickchart {\n",
              "      --bg-color: #E8F0FE;\n",
              "      --fill-color: #1967D2;\n",
              "      --hover-bg-color: #E2EBFA;\n",
              "      --hover-fill-color: #174EA6;\n",
              "      --disabled-fill-color: #AAA;\n",
              "      --disabled-bg-color: #DDD;\n",
              "  }\n",
              "\n",
              "  [theme=dark] .colab-df-quickchart {\n",
              "      --bg-color: #3B4455;\n",
              "      --fill-color: #D2E3FC;\n",
              "      --hover-bg-color: #434B5C;\n",
              "      --hover-fill-color: #FFFFFF;\n",
              "      --disabled-bg-color: #3B4455;\n",
              "      --disabled-fill-color: #666;\n",
              "  }\n",
              "\n",
              "  .colab-df-quickchart {\n",
              "    background-color: var(--bg-color);\n",
              "    border: none;\n",
              "    border-radius: 50%;\n",
              "    cursor: pointer;\n",
              "    display: none;\n",
              "    fill: var(--fill-color);\n",
              "    height: 32px;\n",
              "    padding: 0;\n",
              "    width: 32px;\n",
              "  }\n",
              "\n",
              "  .colab-df-quickchart:hover {\n",
              "    background-color: var(--hover-bg-color);\n",
              "    box-shadow: 0 1px 2px rgba(60, 64, 67, 0.3), 0 1px 3px 1px rgba(60, 64, 67, 0.15);\n",
              "    fill: var(--button-hover-fill-color);\n",
              "  }\n",
              "\n",
              "  .colab-df-quickchart-complete:disabled,\n",
              "  .colab-df-quickchart-complete:disabled:hover {\n",
              "    background-color: var(--disabled-bg-color);\n",
              "    fill: var(--disabled-fill-color);\n",
              "    box-shadow: none;\n",
              "  }\n",
              "\n",
              "  .colab-df-spinner {\n",
              "    border: 2px solid var(--fill-color);\n",
              "    border-color: transparent;\n",
              "    border-bottom-color: var(--fill-color);\n",
              "    animation:\n",
              "      spin 1s steps(1) infinite;\n",
              "  }\n",
              "\n",
              "  @keyframes spin {\n",
              "    0% {\n",
              "      border-color: transparent;\n",
              "      border-bottom-color: var(--fill-color);\n",
              "      border-left-color: var(--fill-color);\n",
              "    }\n",
              "    20% {\n",
              "      border-color: transparent;\n",
              "      border-left-color: var(--fill-color);\n",
              "      border-top-color: var(--fill-color);\n",
              "    }\n",
              "    30% {\n",
              "      border-color: transparent;\n",
              "      border-left-color: var(--fill-color);\n",
              "      border-top-color: var(--fill-color);\n",
              "      border-right-color: var(--fill-color);\n",
              "    }\n",
              "    40% {\n",
              "      border-color: transparent;\n",
              "      border-right-color: var(--fill-color);\n",
              "      border-top-color: var(--fill-color);\n",
              "    }\n",
              "    60% {\n",
              "      border-color: transparent;\n",
              "      border-right-color: var(--fill-color);\n",
              "    }\n",
              "    80% {\n",
              "      border-color: transparent;\n",
              "      border-right-color: var(--fill-color);\n",
              "      border-bottom-color: var(--fill-color);\n",
              "    }\n",
              "    90% {\n",
              "      border-color: transparent;\n",
              "      border-bottom-color: var(--fill-color);\n",
              "    }\n",
              "  }\n",
              "</style>\n",
              "\n",
              "      <script>\n",
              "        async function quickchart(key) {\n",
              "          const quickchartButtonEl =\n",
              "            document.querySelector('#' + key + ' button');\n",
              "          quickchartButtonEl.disabled = true;  // To prevent multiple clicks.\n",
              "          quickchartButtonEl.classList.add('colab-df-spinner');\n",
              "          try {\n",
              "            const charts = await google.colab.kernel.invokeFunction(\n",
              "                'suggestCharts', [key], {});\n",
              "          } catch (error) {\n",
              "            console.error('Error during call to suggestCharts:', error);\n",
              "          }\n",
              "          quickchartButtonEl.classList.remove('colab-df-spinner');\n",
              "          quickchartButtonEl.classList.add('colab-df-quickchart-complete');\n",
              "        }\n",
              "        (() => {\n",
              "          let quickchartButtonEl =\n",
              "            document.querySelector('#df-9b5844f1-3cc5-451c-bc89-6497bb3a4724 button');\n",
              "          quickchartButtonEl.style.display =\n",
              "            google.colab.kernel.accessAllowed ? 'block' : 'none';\n",
              "        })();\n",
              "      </script>\n",
              "    </div>\n",
              "\n",
              "  <div id=\"id_e93f596c-6844-44d1-964f-edf700d6d4ff\">\n",
              "    <style>\n",
              "      .colab-df-generate {\n",
              "        background-color: #E8F0FE;\n",
              "        border: none;\n",
              "        border-radius: 50%;\n",
              "        cursor: pointer;\n",
              "        display: none;\n",
              "        fill: #1967D2;\n",
              "        height: 32px;\n",
              "        padding: 0 0 0 0;\n",
              "        width: 32px;\n",
              "      }\n",
              "\n",
              "      .colab-df-generate:hover {\n",
              "        background-color: #E2EBFA;\n",
              "        box-shadow: 0px 1px 2px rgba(60, 64, 67, 0.3), 0px 1px 3px 1px rgba(60, 64, 67, 0.15);\n",
              "        fill: #174EA6;\n",
              "      }\n",
              "\n",
              "      [theme=dark] .colab-df-generate {\n",
              "        background-color: #3B4455;\n",
              "        fill: #D2E3FC;\n",
              "      }\n",
              "\n",
              "      [theme=dark] .colab-df-generate:hover {\n",
              "        background-color: #434B5C;\n",
              "        box-shadow: 0px 1px 3px 1px rgba(0, 0, 0, 0.15);\n",
              "        filter: drop-shadow(0px 1px 2px rgba(0, 0, 0, 0.3));\n",
              "        fill: #FFFFFF;\n",
              "      }\n",
              "    </style>\n",
              "    <button class=\"colab-df-generate\" onclick=\"generateWithVariable('results')\"\n",
              "            title=\"Generate code using this dataframe.\"\n",
              "            style=\"display:none;\">\n",
              "\n",
              "  <svg xmlns=\"http://www.w3.org/2000/svg\" height=\"24px\"viewBox=\"0 0 24 24\"\n",
              "       width=\"24px\">\n",
              "    <path d=\"M7,19H8.4L18.45,9,17,7.55,7,17.6ZM5,21V16.75L18.45,3.32a2,2,0,0,1,2.83,0l1.4,1.43a1.91,1.91,0,0,1,.58,1.4,1.91,1.91,0,0,1-.58,1.4L9.25,21ZM18.45,9,17,7.55Zm-12,3A5.31,5.31,0,0,0,4.9,8.1,5.31,5.31,0,0,0,1,6.5,5.31,5.31,0,0,0,4.9,4.9,5.31,5.31,0,0,0,6.5,1,5.31,5.31,0,0,0,8.1,4.9,5.31,5.31,0,0,0,12,6.5,5.46,5.46,0,0,0,6.5,12Z\"/>\n",
              "  </svg>\n",
              "    </button>\n",
              "    <script>\n",
              "      (() => {\n",
              "      const buttonEl =\n",
              "        document.querySelector('#id_e93f596c-6844-44d1-964f-edf700d6d4ff button.colab-df-generate');\n",
              "      buttonEl.style.display =\n",
              "        google.colab.kernel.accessAllowed ? 'block' : 'none';\n",
              "\n",
              "      buttonEl.onclick = () => {\n",
              "        google.colab.notebook.generateWithVariable('results');\n",
              "      }\n",
              "      })();\n",
              "    </script>\n",
              "  </div>\n",
              "\n",
              "    </div>\n",
              "  </div>\n"
            ],
            "application/vnd.google.colaboratory.intrinsic+json": {
              "type": "dataframe",
              "variable_name": "results",
              "summary": "{\n  \"name\": \"results\",\n  \"rows\": 4,\n  \"fields\": [\n    {\n      \"column\": \"Model\",\n      \"properties\": {\n        \"dtype\": \"string\",\n        \"num_unique_values\": 4,\n        \"samples\": [\n          \"Assignment 2: Softmax (NumPy)\",\n          \"Assignment 3.2: Softmax (Sklearn)\",\n          \"Assignment 1: Logistic (NumPy)\"\n        ],\n        \"semantic_type\": \"\",\n        \"description\": \"\"\n      }\n    },\n    {\n      \"column\": \"Task\",\n      \"properties\": {\n        \"dtype\": \"string\",\n        \"num_unique_values\": 2,\n        \"samples\": [\n          \"Multi-class (3 classes)\",\n          \"Binary (2 classes)\"\n        ],\n        \"semantic_type\": \"\",\n        \"description\": \"\"\n      }\n    },\n    {\n      \"column\": \"Train Accuracy\",\n      \"properties\": {\n        \"dtype\": \"string\",\n        \"num_unique_values\": 4,\n        \"samples\": [\n          \"0.7731\",\n          \"0.7734\"\n        ],\n        \"semantic_type\": \"\",\n        \"description\": \"\"\n      }\n    },\n    {\n      \"column\": \"Test Accuracy\",\n      \"properties\": {\n        \"dtype\": \"string\",\n        \"num_unique_values\": 3,\n        \"samples\": [\n          \"0.8237\",\n          \"0.7740\"\n        ],\n        \"semantic_type\": \"\",\n        \"description\": \"\"\n      }\n    }\n  ]\n}"
            }
          },
          "metadata": {}
        },
        {
          "output_type": "display_data",
          "data": {
            "text/plain": [
              "<Figure size 1400x500 with 2 Axes>"
            ],
            "image/png": "[encoded data removed]"
          },
          "metadata": {}
        }
      ],
      "source": [
        "# Compare all models\n",
        "results = pd.DataFrame({\n",
        "    'Model': [\n",
        "        'Assignment 1: Logistic (NumPy)',\n",
        "        'Assignment 2: Softmax (NumPy)',\n",
        "        'Assignment 3.1: Logistic (Sklearn)',\n",
        "        'Assignment 3.2: Softmax (Sklearn)'\n",
        "    ],\n",
        "    'Task': [\n",
        "        'Binary (2 classes)',\n",
        "        'Multi-class (3 classes)',\n",
        "        'Binary (2 classes)',\n",
        "        'Multi-class (3 classes)'\n",
        "    ],\n",
        "    'Train Accuracy': [\n",
        "        f'{train_acc_bin:.4f}',\n",
        "        f'{train_acc_multi:.4f}',\n",
        "        f'{train_acc_sklearn_lr:.4f}',\n",
        "        f'{train_acc_sklearn_soft:.4f}'\n",
        "    ],\n",
        "    'Test Accuracy': [\n",
        "        f'{test_acc_bin:.4f}',\n",
        "        f'{test_acc_multi:.4f}',\n",
        "        f'{test_acc_sklearn_lr:.4f}',\n",
        "        f'{test_acc_sklearn_soft:.4f}'\n",
        "    ]\n",
        "})\n",
        "\n",
        "print(\"=\"*80)\n",
        "print(\"FINAL RESULTS COMPARISON\")\n",
        "print(\"=\"*80)\n",
        "display(results)\n",
        "\n",
        "# Visualization\n",
        "fig, axes = plt.subplots(1, 2, figsize=(14, 5))\n",
        "\n",
        "# Binary comparison\n",
        "axes[0].bar(['NumPy\\nLogistic', 'Sklearn\\nLogistic'],\n",
        "           [test_acc_bin, test_acc_sklearn_lr],\n",
        "           color=['blue', 'lightblue'])\n",
        "axes[0].set_ylabel('Test Accuracy', fontsize=12)\n",
        "axes[0].set_title('Binary Classification Comparison', fontsize=13, fontweight='bold')\n",
        "axes[0].set_ylim([0.7, 1.0])\n",
        "axes[0].grid(axis='y', alpha=0.3)\n",
        "\n",
        "# Multi-class comparison\n",
        "axes[1].bar(['NumPy\\nSoftmax', 'Sklearn\\nSoftmax'],\n",
        "           [test_acc_multi, test_acc_sklearn_soft],\n",
        "           color=['red', 'lightcoral'])\n",
        "axes[1].set_ylabel('Test Accuracy', fontsize=12)\n",
        "axes[1].set_title('Multi-class Classification Comparison', fontsize=13, fontweight='bold')\n",
        "axes[1].set_ylim([0.7, 1.0])\n",
        "axes[1].grid(axis='y', alpha=0.3)\n",
        "\n",
        "plt.tight_layout()\n",
        "plt.show()"
      ]
    }
  ],
  "metadata": {
    "accelerator": "GPU",
    "colab": {
      "gpuType": "T4",
      "provenance": [],
      "toc_visible": true
    },
    "kernelspec": {
      "display_name": "Python 3",
      "name": "python3"
    },
    "language_info": {
      "codemirror_mode": {
        "name": "ipython",
        "version": 3
      },
      "file_extension": ".py",
      "mimetype": "text/x-python",
      "name": "python",
      "nbconvert_exporter": "python",
      "pygments_lexer": "ipython3",
      "version": "3.14.0"
    }
  },
  "nbformat": 4,
  "nbformat_minor": 0
}